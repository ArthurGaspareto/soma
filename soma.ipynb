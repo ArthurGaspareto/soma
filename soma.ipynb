{
 "cells": [
  {
   "cell_type": "code",
   "execution_count": 2,
   "id": "cb833cd5-3219-4147-b1b4-2f935c1e2e53",
   "metadata": {},
   "outputs": [
    {
     "data": {
      "text/plain": [
       "'\\nPrograma: Soma\\nDescrição: Armazena os números 2 e 3 e imprime a soma na tela\\nAutor: Arthur Gaspareto\\nData: 25/02/25\\nVersão: 0.0.1\\nNovidades da Versão\\n\\n25/02/2025\\nNesta versão:\\n1.\\n'"
      ]
     },
     "execution_count": 2,
     "metadata": {},
     "output_type": "execute_result"
    }
   ],
   "source": [
    "'''\n",
    "Programa: Soma\n",
    "Descrição: Armazena os números 2 e 3 e imprime a soma na tela\n",
    "Autor: Arthur Gaspareto\n",
    "Data: 25/02/25\n",
    "Versão: 0.0.1\n",
    "Novidades da Versão\n",
    "\n",
    "25/02/2025\n",
    "Nesta versão:\n",
    "1.\n",
    "'''"
   ]
  },
  {
   "cell_type": "code",
   "execution_count": 9,
   "id": "138fcf8c-373d-4db4-af0d-9b15d6649562",
   "metadata": {},
   "outputs": [],
   "source": [
    "#Alocação de Memória\n",
    "soma = float()\n",
    "num1 = float()\n",
    "num2 = float()"
   ]
  },
  {
   "cell_type": "code",
   "execution_count": 11,
   "id": "4a2bb8b3-66a3-4a72-9beb-1ee7c1e5924d",
   "metadata": {},
   "outputs": [
    {
     "name": "stdin",
     "output_type": "stream",
     "text": [
      "Qual o primeiro número? 2\n",
      "Qual o segundo número? 3\n"
     ]
    }
   ],
   "source": [
    "#Entrada de Dados\n",
    "\n",
    "num1 = float(input('Qual o primeiro número?'))\n",
    "num2 = float(input('Qual o segundo número?'))"
   ]
  },
  {
   "cell_type": "code",
   "execution_count": 13,
   "id": "eda0a32d-34b2-40a1-8140-550cb639c1ac",
   "metadata": {},
   "outputs": [],
   "source": [
    "#Processamento de Dados\n",
    "soma = num1 + num2"
   ]
  },
  {
   "cell_type": "code",
   "execution_count": 15,
   "id": "96db17ef-dcdb-4847-8b6f-00ffb3981cf8",
   "metadata": {},
   "outputs": [
    {
     "name": "stdout",
     "output_type": "stream",
     "text": [
      "A soma dos números digitados é: 5.0\n"
     ]
    }
   ],
   "source": [
    "#Saída de dados\n",
    "\n",
    "print(f'A soma dos números digitados é: {soma}')"
   ]
  },
  {
   "cell_type": "code",
   "execution_count": null,
   "id": "ae1f1315-72fc-4c04-a784-0ef32fa3f26f",
   "metadata": {},
   "outputs": [],
   "source": []
  }
 ],
 "metadata": {
  "kernelspec": {
   "display_name": "Python 3 (ipykernel)",
   "language": "python",
   "name": "python3"
  },
  "language_info": {
   "codemirror_mode": {
    "name": "ipython",
    "version": 3
   },
   "file_extension": ".py",
   "mimetype": "text/x-python",
   "name": "python",
   "nbconvert_exporter": "python",
   "pygments_lexer": "ipython3",
   "version": "3.12.7"
  }
 },
 "nbformat": 4,
 "nbformat_minor": 5
}
